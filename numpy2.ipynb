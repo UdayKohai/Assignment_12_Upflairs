{
 "cells": [
  {
   "cell_type": "code",
   "execution_count": null,
   "metadata": {},
   "outputs": [],
   "source": [
    "import numpy as np\n",
    "\n",
    "def last_row(a):\n",
    "    s=1\n",
    "    max1=a[-1][0]\n",
    "    min1=a[-1][0]\n",
    "    count=0\n",
    "    for i in a[-1,::]:\n",
    "        s+=i\n",
    "        if max1<=i:\n",
    "            max1=i\n",
    "        if min1>=i:\n",
    "            min1=i\n",
    "        if i%2==0:\n",
    "            count+=1\n",
    "    avg= s/len(a[-1,::])\n",
    "    print(f\"Average = {avg}\\nMaximum ={max1}\\nMinimum ={min1}\\nEven Numbers ={count}\")\n",
    "\n",
    "a = (np.random.randint(1,20,60)).reshape(12,5)\n",
    "print(a)\n",
    "last_row(a)"
   ]
  },
  {
   "cell_type": "code",
   "execution_count": null,
   "metadata": {},
   "outputs": [],
   "source": [
    "import numpy as np\n",
    "\n",
    "b= (np.random.randint(1,50,9)).reshape(3,3)\n",
    "print(b)\n",
    "print(\"Reversed :\")\n",
    "print(b[:,::-1])"
   ]
  }
 ],
 "metadata": {
  "kernelspec": {
   "display_name": "Python 3",
   "language": "python",
   "name": "python3"
  },
  "language_info": {
   "codemirror_mode": {
    "name": "ipython",
    "version": 3
   },
   "file_extension": ".py",
   "mimetype": "text/x-python",
   "name": "python",
   "nbconvert_exporter": "python",
   "pygments_lexer": "ipython3",
   "version": "3.12.3"
  }
 },
 "nbformat": 4,
 "nbformat_minor": 2
}
